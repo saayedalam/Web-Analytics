{
 "cells": [
  {
   "cell_type": "markdown",
   "metadata": {},
   "source": [
    "### DATA 620\n",
    "#### FINAL PROJECT \n",
    "### [Video Presentation]()\n",
    "##### Group Four\n",
    "- Santosh Cheruku\n",
    "- Vinicio Haro\n",
    "- Javern Wilson\n",
    "- Saayed Alam  "
   ]
  },
  {
   "cell_type": "code",
   "execution_count": 315,
   "metadata": {},
   "outputs": [
    {
     "ename": "ModuleNotFoundError",
     "evalue": "No module named 'mpl_toolkits.basemap'",
     "output_type": "error",
     "traceback": [
      "\u001b[1;31m---------------------------------------------------------------------------\u001b[0m",
      "\u001b[1;31mModuleNotFoundError\u001b[0m                       Traceback (most recent call last)",
      "\u001b[1;32m<ipython-input-315-9d489aa17d22>\u001b[0m in \u001b[0;36m<module>\u001b[1;34m()\u001b[0m\n\u001b[0;32m     17\u001b[0m \u001b[1;31m# visualization librarires\u001b[0m\u001b[1;33m\u001b[0m\u001b[1;33m\u001b[0m\u001b[0m\n\u001b[0;32m     18\u001b[0m \u001b[1;32mfrom\u001b[0m \u001b[0mwordcloud\u001b[0m \u001b[1;32mimport\u001b[0m \u001b[0mWordCloud\u001b[0m\u001b[1;33m\u001b[0m\u001b[0m\n\u001b[1;32m---> 19\u001b[1;33m \u001b[1;32mfrom\u001b[0m \u001b[0mmpl_toolkits\u001b[0m\u001b[1;33m.\u001b[0m\u001b[0mbasemap\u001b[0m \u001b[1;32mimport\u001b[0m \u001b[0mBasemap\u001b[0m \u001b[1;32mas\u001b[0m \u001b[0mBasemap\u001b[0m\u001b[1;33m\u001b[0m\u001b[0m\n\u001b[0m\u001b[0;32m     20\u001b[0m \u001b[1;32mimport\u001b[0m \u001b[0mseaborn\u001b[0m \u001b[1;32mas\u001b[0m \u001b[0msns\u001b[0m\u001b[1;33m\u001b[0m\u001b[0m\n\u001b[0;32m     21\u001b[0m \u001b[1;32mimport\u001b[0m \u001b[0mmatplotlib\u001b[0m\u001b[1;33m.\u001b[0m\u001b[0mpyplot\u001b[0m \u001b[1;32mas\u001b[0m \u001b[0mplt\u001b[0m\u001b[1;33m\u001b[0m\u001b[0m\n",
      "\u001b[1;31mModuleNotFoundError\u001b[0m: No module named 'mpl_toolkits.basemap'"
     ]
    }
   ],
   "source": [
    "# data processing libraries\n",
    "import pandas as pd\n",
    "import numpy as np\n",
    "from collections import Counter\n",
    "\n",
    "# network analysis libraries\n",
    "import networkx as nx\n",
    "from networkx.algorithms import bipartite as bi\n",
    "\n",
    "# text processing libraries\n",
    "import nltk\n",
    "from nltk.corpus import stopwords\n",
    "from nltk.stem import WordNetLemmatizer\n",
    "from nltk import word_tokenize\n",
    "from nltk.sentiment.vader import SentimentIntensityAnalyzer as sia\n",
    "\n",
    "# visualization librarires\n",
    "from wordcloud import WordCloud\n",
    "from mpl_toolkits.basemap import Basemap as Basemap\n",
    "import seaborn as sns\n",
    "import matplotlib.pyplot as plt\n",
    "from matplotlib import style\n",
    "% matplotlib inline\n",
    "\n",
    "# settings\n",
    "pd.options.mode.chained_assignment = None"
   ]
  },
  {
   "cell_type": "markdown",
   "metadata": {},
   "source": [
    "#### Introduction \n",
    "Social networks is the biggest public forum ever created by mankind and during the time of election, forums are teeming with discussions from negative to positive and everything in between. The conversations create a hub for scientists to analyze texts of large scale and find insights.\n",
    "\n",
    "Our goal is to perform text mining on over `180,000` tweets from `May 10, 2019` to `May 20, 2019` during **2019 Australian Election**. We will implement *Sentiment Analysis* on tweets to find the overall attitude of the twitter users during the time of election. Next we will apply *Network Analysis* to find Twitter users who are very connected, popular individuals, individuals who are likely to hold most information or individuals who can quickly connect with the wider network."
   ]
  },
  {
   "cell_type": "markdown",
   "metadata": {},
   "source": [
    "#### Dataset \n",
    "A summary of the dataset variables:  \n",
    "`created_at`: Date and time of tweet creation  \n",
    "`id`: Unique ID of the tweet  \n",
    "`full_text`: Full tweet text  \n",
    "`retweet_count`: Number of retweets  \n",
    "`favorite_count`: Number of likes  \n",
    "`user_id`: User ID of tweet creator  \n",
    "`user_name`: Username of tweet creator  \n",
    "`user_screen_name`: Screen name of tweet creator  \n",
    "`user_description`: Description on tweet creator's profile  \n",
    "`user_location`: Location given on tweet creator's profile  \n",
    "`user_created_at`: Date the tweet creator joined Twitter "
   ]
  },
  {
   "cell_type": "code",
   "execution_count": 304,
   "metadata": {},
   "outputs": [],
   "source": [
    "# load dataset\n",
    "twitter_data = pd.read_csv(\"auspol2019.csv\", parse_dates = ['created_at', 'user_created_at'])"
   ]
  },
  {
   "cell_type": "markdown",
   "metadata": {},
   "source": [
    "#### Data Exploration\n",
    "We select the variables necessary for our goals and discard the remainder along with 21 rows of missing values."
   ]
  },
  {
   "cell_type": "code",
   "execution_count": 318,
   "metadata": {},
   "outputs": [
    {
     "data": {
      "text/plain": [
       "created_at         0\n",
       "id                 0\n",
       "full_text          0\n",
       "retweet_count      9\n",
       "favorite_count     9\n",
       "user_id            9\n",
       "user_name         21\n",
       "dtype: int64"
      ]
     },
     "execution_count": 318,
     "metadata": {},
     "output_type": "execute_result"
    }
   ],
   "source": [
    "# select varaibles\n",
    "dt = twitter_data.drop([\"user_created_at\", \"user_screen_name\", \"user_description\", \"user_location\"],\n",
    "                      axis = 1)\n",
    "\n",
    "# count row with missing values\n",
    "dt.isnull().sum()"
   ]
  },
  {
   "cell_type": "code",
   "execution_count": 319,
   "metadata": {},
   "outputs": [
    {
     "data": {
      "text/html": [
       "<div>\n",
       "<style>\n",
       "    .dataframe thead tr:only-child th {\n",
       "        text-align: right;\n",
       "    }\n",
       "\n",
       "    .dataframe thead th {\n",
       "        text-align: left;\n",
       "    }\n",
       "\n",
       "    .dataframe tbody tr th {\n",
       "        vertical-align: top;\n",
       "    }\n",
       "</style>\n",
       "<table border=\"1\" class=\"dataframe\">\n",
       "  <thead>\n",
       "    <tr style=\"text-align: right;\">\n",
       "      <th></th>\n",
       "      <th>created_at</th>\n",
       "      <th>id</th>\n",
       "      <th>full_text</th>\n",
       "      <th>retweet_count</th>\n",
       "      <th>favorite_count</th>\n",
       "      <th>user_id</th>\n",
       "      <th>user_name</th>\n",
       "    </tr>\n",
       "  </thead>\n",
       "  <tbody>\n",
       "    <tr>\n",
       "      <th>0</th>\n",
       "      <td>2019-05-20 09:13:44</td>\n",
       "      <td>1130401208756187136</td>\n",
       "      <td>After the climate election: shellshocked green...</td>\n",
       "      <td>0.0</td>\n",
       "      <td>0.0</td>\n",
       "      <td>9.248486e+07</td>\n",
       "      <td>PIPELINEPETE</td>\n",
       "    </tr>\n",
       "    <tr>\n",
       "      <th>1</th>\n",
       "      <td>2019-05-20 09:13:43</td>\n",
       "      <td>1130401205367140357</td>\n",
       "      <td>@narendramodi @smritiirani Coverage of indian ...</td>\n",
       "      <td>0.0</td>\n",
       "      <td>0.0</td>\n",
       "      <td>7.756474e+08</td>\n",
       "      <td>Narinder Parmar</td>\n",
       "    </tr>\n",
       "    <tr>\n",
       "      <th>2</th>\n",
       "      <td>2019-05-20 09:13:33</td>\n",
       "      <td>1130401162782371841</td>\n",
       "      <td>@workmanalice Do you know if Facebook is relea...</td>\n",
       "      <td>0.0</td>\n",
       "      <td>0.0</td>\n",
       "      <td>5.687300e+04</td>\n",
       "      <td>Peter Wells</td>\n",
       "    </tr>\n",
       "    <tr>\n",
       "      <th>3</th>\n",
       "      <td>2019-05-20 09:13:29</td>\n",
       "      <td>1130401143551434753</td>\n",
       "      <td>@vanbadham We all understand we have a compuls...</td>\n",
       "      <td>0.0</td>\n",
       "      <td>0.0</td>\n",
       "      <td>9.081660e+17</td>\n",
       "      <td>The Realist</td>\n",
       "    </tr>\n",
       "    <tr>\n",
       "      <th>4</th>\n",
       "      <td>2019-05-20 09:13:23</td>\n",
       "      <td>1130401118666809345</td>\n",
       "      <td>Shares were mixed in Asia, with India and Aust...</td>\n",
       "      <td>0.0</td>\n",
       "      <td>0.0</td>\n",
       "      <td>5.260074e+08</td>\n",
       "      <td>Inquirer Business</td>\n",
       "    </tr>\n",
       "  </tbody>\n",
       "</table>\n",
       "</div>"
      ],
      "text/plain": [
       "            created_at                   id  \\\n",
       "0  2019-05-20 09:13:44  1130401208756187136   \n",
       "1  2019-05-20 09:13:43  1130401205367140357   \n",
       "2  2019-05-20 09:13:33  1130401162782371841   \n",
       "3  2019-05-20 09:13:29  1130401143551434753   \n",
       "4  2019-05-20 09:13:23  1130401118666809345   \n",
       "\n",
       "                                           full_text  retweet_count  \\\n",
       "0  After the climate election: shellshocked green...            0.0   \n",
       "1  @narendramodi @smritiirani Coverage of indian ...            0.0   \n",
       "2  @workmanalice Do you know if Facebook is relea...            0.0   \n",
       "3  @vanbadham We all understand we have a compuls...            0.0   \n",
       "4  Shares were mixed in Asia, with India and Aust...            0.0   \n",
       "\n",
       "   favorite_count       user_id          user_name  \n",
       "0             0.0  9.248486e+07       PIPELINEPETE  \n",
       "1             0.0  7.756474e+08    Narinder Parmar  \n",
       "2             0.0  5.687300e+04        Peter Wells  \n",
       "3             0.0  9.081660e+17        The Realist  \n",
       "4             0.0  5.260074e+08  Inquirer Business  "
      ]
     },
     "execution_count": 319,
     "metadata": {},
     "output_type": "execute_result"
    }
   ],
   "source": [
    "# drop na and display data\n",
    "dt = dt.dropna()\n",
    "dt.head()"
   ]
  },
  {
   "cell_type": "markdown",
   "metadata": {},
   "source": [
    "Next, we print the count of unique users, unique tweets, most retweets and most favorite tweets."
   ]
  },
  {
   "cell_type": "code",
   "execution_count": 320,
   "metadata": {},
   "outputs": [
    {
     "name": "stdout",
     "output_type": "stream",
     "text": [
      "The dataset has 45861 unique users.\n",
      "And 183358 unique tweets.\n",
      "The tweet with the most retweets had 6622.0 retweets.\n",
      "The tweet with the most favorites had 15559.0 favorites.\n"
     ]
    }
   ],
   "source": [
    "# some information about the dataset\n",
    "print(\"The dataset has\", len(dt.user_id.unique()), \"unique users.\")\n",
    "print(\"And\", len(dt.id.unique()), \"unique tweets.\")\n",
    "print(\"The tweet with the most retweets had\", dt['retweet_count'].max(), \"retweets.\")\n",
    "print(\"The tweet with the most favorites had\", dt['favorite_count'].max(), \"favorites.\")"
   ]
  },
  {
   "cell_type": "markdown",
   "metadata": {},
   "source": [
    "Following Twitter user had this tweet most retweeted and favorited."
   ]
  },
  {
   "cell_type": "code",
   "execution_count": 323,
   "metadata": {},
   "outputs": [
    {
     "name": "stdout",
     "output_type": "stream",
     "text": [
      "SaraCarterDC >>> Shocking defeat for Left in Australia, stunned pollsters and mainstream media who had predicted this election as 'unlosable for Labor'. Conservative @ScottMorrisonMP focused on 'Australian First', Jobs and Imigration, while Labor focused on #ClimateChange https://t.co/hFt7vgwuEd\n"
     ]
    }
   ],
   "source": [
    "# tweet with most retweets and favorites\n",
    "most_retweet_faves = twitter_data.loc[twitter_data[\"favorite_count\"] == 15559.0]\n",
    "print(most_retweet_faves.iloc[0][7], \">>>\", most_retweet_faves.iloc[0][2])"
   ]
  },
  {
   "cell_type": "markdown",
   "metadata": {},
   "source": [
    "Next we visualize the number of tweets per day. As expected, the day of the election , `May 18, 2019`, had the highest number of tweets. "
   ]
  },
  {
   "cell_type": "code",
   "execution_count": 325,
   "metadata": {},
   "outputs": [
    {
     "data": {
      "image/png": "[encoded data removed]",
      "text/plain": [
       "<Figure size 1008x432 with 1 Axes>"
      ]
     },
     "metadata": {
      "needs_background": "light"
     },
     "output_type": "display_data"
    }
   ],
   "source": [
    "# number of tweets by day\n",
    "dt['created_at'] =  pd.to_datetime(dt['created_at'])\n",
    "cnt_srs = dt['created_at'].dt.weekday_name.value_counts()\n",
    "cnt_srs = cnt_srs.sort_index()\n",
    "\n",
    "# bar plot of tweets per day\n",
    "plt.figure(figsize = (14, 6))\n",
    "clrs = ['grey' if (x < max(cnt_srs.values)) else 'red' for x in cnt_srs.values]\n",
    "sns.barplot(cnt_srs.index, cnt_srs.values, alpha = 0.7, palette = clrs)\n",
    "\n",
    "plt.xticks(rotation = 'vertical')\n",
    "plt.xlabel('Day', fontsize = 12)\n",
    "plt.ylabel('Number of Tweets', fontsize=10)\n",
    "plt.title(\"Number of Tweets per Day\")\n",
    "plt.show()"
   ]
  },
  {
   "cell_type": "markdown",
   "metadata": {},
   "source": [
    "#### Text Processing\n",
    "Sentiment analysis, otherwise known as opinion mining is the process of determining the emotional tone behind a series of words, used to gain an understanding of the the attitudes, opinions and emotions expressed within an online mention. \n",
    "\n",
    "In order to perform sentiment analysis on all the 180,000 tweets, we will have to first clean the dataset."
   ]
  },
  {
   "cell_type": "code",
   "execution_count": 331,
   "metadata": {
    "scrolled": true
   },
   "outputs": [
    {
     "data": {
      "text/plain": [
       "pandas.core.frame.DataFrame"
      ]
     },
     "execution_count": 331,
     "metadata": {},
     "output_type": "execute_result"
    }
   ],
   "source": [
    "# get the column with the full tweets\n",
    "tweets = dt[[\"full_text\"]]\n",
    "\n",
    "# print first 5 rows\n",
    "type(tweets)"
   ]
  },
  {
   "cell_type": "code",
   "execution_count": 194,
   "metadata": {},
   "outputs": [],
   "source": [
    "def tidy_tweet(text):\n",
    "    stop_words = stopwords.words('english')\n",
    "    lemma = nltk.WordNetLemmatizer()\n",
    "    \n",
    "    hastag = text.str.replace(\"#[A-Za-z0-9]+\", \"\")\n",
    "    username = hastag.str.replace(\"@[A-Za-z0-9]+\", \"\")\n",
    "    urls = username.str.replace(\"https?://[A-Za-z0-9./]+\", \"\")\n",
    "    num_punt = urls.str.replace(\"[^a-zA-Z]\", \" \")\n",
    "    lower_case = num_punt.str.lower()\n",
    "    token = lower_case.apply(lambda x: x.split())\n",
    "    stop_words = token.apply(lambda x: [i for i in x if i not in stop_words])\n",
    "    lemmad = stop_words.apply(lambda x: [lemma.lemmatize(i) for i in x])\n",
    "    return lemmad"
   ]
  },
  {
   "cell_type": "code",
   "execution_count": 186,
   "metadata": {},
   "outputs": [],
   "source": [
    "hf_token = tidy_tweet(tweets.full_text)"
   ]
  },
  {
   "cell_type": "code",
   "execution_count": 187,
   "metadata": {
    "scrolled": true
   },
   "outputs": [
    {
     "data": {
      "text/plain": [
       "0    [climate, election, shellshocked, green, group...\n",
       "1    [coverage, indian, election, sb, tv, channel, ...\n",
       "2    [know, facebook, releasing, election, post, mo...\n",
       "3    [understand, compulsory, preference, system, v...\n",
       "4    [share, mixed, asia, india, australia, leading...\n",
       "5    [australia, pollster, review, incorrect, elect...\n",
       "6    [disappointing, plibersek, ruled, leadership, ...\n",
       "7    [feel, like, exact, thing, happens, australia,...\n",
       "8    [quiet, australian, latest, upset, election, f...\n",
       "9    [conservative, look, set, form, gov, australia...\n",
       "Name: full_text, dtype: object"
      ]
     },
     "execution_count": 187,
     "metadata": {},
     "output_type": "execute_result"
    }
   ],
   "source": [
    "hf_token.head(10)"
   ]
  },
  {
   "cell_type": "code",
   "execution_count": 188,
   "metadata": {},
   "outputs": [
    {
     "data": {
      "text/html": [
       "<div>\n",
       "<style>\n",
       "    .dataframe thead tr:only-child th {\n",
       "        text-align: right;\n",
       "    }\n",
       "\n",
       "    .dataframe thead th {\n",
       "        text-align: left;\n",
       "    }\n",
       "\n",
       "    .dataframe tbody tr th {\n",
       "        vertical-align: top;\n",
       "    }\n",
       "</style>\n",
       "<table border=\"1\" class=\"dataframe\">\n",
       "  <thead>\n",
       "    <tr style=\"text-align: right;\">\n",
       "      <th></th>\n",
       "      <th>Word</th>\n",
       "      <th>Count</th>\n",
       "    </tr>\n",
       "  </thead>\n",
       "  <tbody>\n",
       "    <tr>\n",
       "      <th>0</th>\n",
       "      <td>election</td>\n",
       "      <td>35402</td>\n",
       "    </tr>\n",
       "    <tr>\n",
       "      <th>1</th>\n",
       "      <td>australia</td>\n",
       "      <td>34189</td>\n",
       "    </tr>\n",
       "    <tr>\n",
       "      <th>2</th>\n",
       "      <td>vote</td>\n",
       "      <td>24221</td>\n",
       "    </tr>\n",
       "    <tr>\n",
       "      <th>3</th>\n",
       "      <td>labor</td>\n",
       "      <td>18521</td>\n",
       "    </tr>\n",
       "    <tr>\n",
       "      <th>4</th>\n",
       "      <td>amp</td>\n",
       "      <td>16082</td>\n",
       "    </tr>\n",
       "    <tr>\n",
       "      <th>5</th>\n",
       "      <td>party</td>\n",
       "      <td>11716</td>\n",
       "    </tr>\n",
       "    <tr>\n",
       "      <th>6</th>\n",
       "      <td>people</td>\n",
       "      <td>11483</td>\n",
       "    </tr>\n",
       "    <tr>\n",
       "      <th>7</th>\n",
       "      <td>australian</td>\n",
       "      <td>10938</td>\n",
       "    </tr>\n",
       "    <tr>\n",
       "      <th>8</th>\n",
       "      <td>get</td>\n",
       "      <td>9694</td>\n",
       "    </tr>\n",
       "    <tr>\n",
       "      <th>9</th>\n",
       "      <td>like</td>\n",
       "      <td>9505</td>\n",
       "    </tr>\n",
       "  </tbody>\n",
       "</table>\n",
       "</div>"
      ],
      "text/plain": [
       "         Word  Count\n",
       "0    election  35402\n",
       "1   australia  34189\n",
       "2        vote  24221\n",
       "3       labor  18521\n",
       "4         amp  16082\n",
       "5       party  11716\n",
       "6      people  11483\n",
       "7  australian  10938\n",
       "8         get   9694\n",
       "9        like   9505"
      ]
     },
     "execution_count": 188,
     "metadata": {},
     "output_type": "execute_result"
    }
   ],
   "source": [
    "# high frequency words\n",
    "c = Counter()\n",
    "for i in hf_token:\n",
    "    c.update(i)\n",
    "    \n",
    "hf_words = pd.DataFrame(c.most_common(), columns = [\"Word\", \"Count\"])\n",
    "hf_words.head(10)"
   ]
  },
  {
   "cell_type": "code",
   "execution_count": 189,
   "metadata": {},
   "outputs": [
    {
     "data": {
      "image/png": "[encoded data removed]",
      "text/plain": [
       "<Figure size 720x720 with 1 Axes>"
      ]
     },
     "metadata": {},
     "output_type": "display_data"
    }
   ],
   "source": [
    "wordcloud = WordCloud(random_state=21, max_words = 100, max_font_size=110, background_color=\"white\").generate(str(hf_words.Word))\n",
    "\n",
    "plt.figure(figsize=(10, 10))\n",
    "plt.imshow(wordcloud, interpolation=\"bilinear\")\n",
    "plt.axis('off')\n",
    "plt.show()"
   ]
  },
  {
   "cell_type": "code",
   "execution_count": 190,
   "metadata": {},
   "outputs": [
    {
     "data": {
      "text/plain": [
       "<matplotlib.axes._subplots.AxesSubplot at 0x21b5167c320>"
      ]
     },
     "execution_count": 190,
     "metadata": {},
     "output_type": "execute_result"
    },
    {
     "data": {
      "image/png": "[encoded data removed]",
      "text/plain": [
       "<Figure size 720x288 with 1 Axes>"
      ]
     },
     "metadata": {},
     "output_type": "display_data"
    }
   ],
   "source": [
    "style.use('fivethirtyeight')\n",
    "\n",
    "\n",
    "figure, ax = plt.subplots(nrows=1, ncols=1)\n",
    "figure.set_size_inches(10, 4)\n",
    "\n",
    "sns.barplot(data=hf_words[:20], y=\"Word\", x=\"Count\", ax=ax)"
   ]
  },
  {
   "cell_type": "code",
   "execution_count": 191,
   "metadata": {},
   "outputs": [
    {
     "data": {
      "text/html": [
       "<div>\n",
       "<style>\n",
       "    .dataframe thead tr:only-child th {\n",
       "        text-align: right;\n",
       "    }\n",
       "\n",
       "    .dataframe thead th {\n",
       "        text-align: left;\n",
       "    }\n",
       "\n",
       "    .dataframe tbody tr th {\n",
       "        vertical-align: top;\n",
       "    }\n",
       "</style>\n",
       "<table border=\"1\" class=\"dataframe\">\n",
       "  <thead>\n",
       "    <tr style=\"text-align: right;\">\n",
       "      <th></th>\n",
       "      <th>compound</th>\n",
       "      <th>neg</th>\n",
       "      <th>neu</th>\n",
       "      <th>pos</th>\n",
       "      <th>tweet</th>\n",
       "    </tr>\n",
       "  </thead>\n",
       "  <tbody>\n",
       "    <tr>\n",
       "      <th>0</th>\n",
       "      <td>0.2732</td>\n",
       "      <td>0.000</td>\n",
       "      <td>0.741</td>\n",
       "      <td>0.259</td>\n",
       "      <td>climate election shellshocked green group rema...</td>\n",
       "    </tr>\n",
       "    <tr>\n",
       "      <th>1</th>\n",
       "      <td>0.0000</td>\n",
       "      <td>0.000</td>\n",
       "      <td>1.000</td>\n",
       "      <td>0.000</td>\n",
       "      <td>coverage indian election sb tv channel austral...</td>\n",
       "    </tr>\n",
       "    <tr>\n",
       "      <th>2</th>\n",
       "      <td>-0.1531</td>\n",
       "      <td>0.169</td>\n",
       "      <td>0.704</td>\n",
       "      <td>0.127</td>\n",
       "      <td>know facebook releasing election post mortem a...</td>\n",
       "    </tr>\n",
       "    <tr>\n",
       "      <th>3</th>\n",
       "      <td>-0.2755</td>\n",
       "      <td>0.117</td>\n",
       "      <td>0.883</td>\n",
       "      <td>0.000</td>\n",
       "      <td>understand compulsory preference system vote g...</td>\n",
       "    </tr>\n",
       "    <tr>\n",
       "      <th>4</th>\n",
       "      <td>0.6808</td>\n",
       "      <td>0.000</td>\n",
       "      <td>0.699</td>\n",
       "      <td>0.301</td>\n",
       "      <td>share mixed asia india australia leading gain ...</td>\n",
       "    </tr>\n",
       "  </tbody>\n",
       "</table>\n",
       "</div>"
      ],
      "text/plain": [
       "   compound    neg    neu    pos  \\\n",
       "0    0.2732  0.000  0.741  0.259   \n",
       "1    0.0000  0.000  1.000  0.000   \n",
       "2   -0.1531  0.169  0.704  0.127   \n",
       "3   -0.2755  0.117  0.883  0.000   \n",
       "4    0.6808  0.000  0.699  0.301   \n",
       "\n",
       "                                               tweet  \n",
       "0  climate election shellshocked green group rema...  \n",
       "1  coverage indian election sb tv channel austral...  \n",
       "2  know facebook releasing election post mortem a...  \n",
       "3  understand compulsory preference system vote g...  \n",
       "4  share mixed asia india australia leading gain ...  "
      ]
     },
     "execution_count": 191,
     "metadata": {},
     "output_type": "execute_result"
    }
   ],
   "source": [
    "sa = sia()\n",
    "results = []\n",
    "tidy_tweet = hf_token.apply(lambda x: \" \".join(x))\n",
    "\n",
    "for i in list(tidy_tweet):\n",
    "    pol_score = sa.polarity_scores(i)\n",
    "    pol_score['tweet'] = i\n",
    "    results.append(pol_score)\n",
    "    \n",
    "sa_score = pd.DataFrame.from_records(results)\n",
    "sa_score.head()"
   ]
  },
  {
   "cell_type": "code",
   "execution_count": 192,
   "metadata": {},
   "outputs": [
    {
     "data": {
      "text/html": [
       "<div>\n",
       "<style>\n",
       "    .dataframe thead tr:only-child th {\n",
       "        text-align: right;\n",
       "    }\n",
       "\n",
       "    .dataframe thead th {\n",
       "        text-align: left;\n",
       "    }\n",
       "\n",
       "    .dataframe tbody tr th {\n",
       "        vertical-align: top;\n",
       "    }\n",
       "</style>\n",
       "<table border=\"1\" class=\"dataframe\">\n",
       "  <thead>\n",
       "    <tr style=\"text-align: right;\">\n",
       "      <th></th>\n",
       "      <th>compound</th>\n",
       "      <th>neg</th>\n",
       "      <th>neu</th>\n",
       "      <th>pos</th>\n",
       "      <th>tweet</th>\n",
       "      <th>label</th>\n",
       "    </tr>\n",
       "  </thead>\n",
       "  <tbody>\n",
       "    <tr>\n",
       "      <th>0</th>\n",
       "      <td>0.2732</td>\n",
       "      <td>0.000</td>\n",
       "      <td>0.741</td>\n",
       "      <td>0.259</td>\n",
       "      <td>climate election shellshocked green group rema...</td>\n",
       "      <td>1</td>\n",
       "    </tr>\n",
       "    <tr>\n",
       "      <th>1</th>\n",
       "      <td>0.0000</td>\n",
       "      <td>0.000</td>\n",
       "      <td>1.000</td>\n",
       "      <td>0.000</td>\n",
       "      <td>coverage indian election sb tv channel austral...</td>\n",
       "      <td>0</td>\n",
       "    </tr>\n",
       "    <tr>\n",
       "      <th>2</th>\n",
       "      <td>-0.1531</td>\n",
       "      <td>0.169</td>\n",
       "      <td>0.704</td>\n",
       "      <td>0.127</td>\n",
       "      <td>know facebook releasing election post mortem a...</td>\n",
       "      <td>0</td>\n",
       "    </tr>\n",
       "    <tr>\n",
       "      <th>3</th>\n",
       "      <td>-0.2755</td>\n",
       "      <td>0.117</td>\n",
       "      <td>0.883</td>\n",
       "      <td>0.000</td>\n",
       "      <td>understand compulsory preference system vote g...</td>\n",
       "      <td>-1</td>\n",
       "    </tr>\n",
       "    <tr>\n",
       "      <th>4</th>\n",
       "      <td>0.6808</td>\n",
       "      <td>0.000</td>\n",
       "      <td>0.699</td>\n",
       "      <td>0.301</td>\n",
       "      <td>share mixed asia india australia leading gain ...</td>\n",
       "      <td>1</td>\n",
       "    </tr>\n",
       "  </tbody>\n",
       "</table>\n",
       "</div>"
      ],
      "text/plain": [
       "   compound    neg    neu    pos  \\\n",
       "0    0.2732  0.000  0.741  0.259   \n",
       "1    0.0000  0.000  1.000  0.000   \n",
       "2   -0.1531  0.169  0.704  0.127   \n",
       "3   -0.2755  0.117  0.883  0.000   \n",
       "4    0.6808  0.000  0.699  0.301   \n",
       "\n",
       "                                               tweet  label  \n",
       "0  climate election shellshocked green group rema...      1  \n",
       "1  coverage indian election sb tv channel austral...      0  \n",
       "2  know facebook releasing election post mortem a...      0  \n",
       "3  understand compulsory preference system vote g...     -1  \n",
       "4  share mixed asia india australia leading gain ...      1  "
      ]
     },
     "execution_count": 192,
     "metadata": {},
     "output_type": "execute_result"
    }
   ],
   "source": [
    "sa_score['label'] = 0\n",
    "sa_score.loc[sa_score['compound'] > 0.2, 'label'] = 1\n",
    "sa_score.loc[sa_score['compound'] < -0.2, 'label'] = -1\n",
    "sa_score.head()"
   ]
  },
  {
   "cell_type": "code",
   "execution_count": 193,
   "metadata": {},
   "outputs": [
    {
     "data": {
      "image/png": "[encoded data removed]",
      "text/plain": [
       "<Figure size 576x576 with 1 Axes>"
      ]
     },
     "metadata": {},
     "output_type": "display_data"
    }
   ],
   "source": [
    "fig, ax = plt.subplots(figsize=(8, 8))\n",
    "\n",
    "counts = sa_score.label.value_counts(normalize=True) * 100\n",
    "\n",
    "sns.barplot(x=counts.index, y=counts, ax=ax)\n",
    "\n",
    "ax.set_xticklabels(['Negative', 'Neutral', 'Positive'])\n",
    "ax.set_ylabel(\"Percentage\")\n",
    "\n",
    "plt.show()"
   ]
  },
  {
   "cell_type": "code",
   "execution_count": 195,
   "metadata": {
    "scrolled": false
   },
   "outputs": [
    {
     "data": {
      "text/html": [
       "<div>\n",
       "<style>\n",
       "    .dataframe thead tr:only-child th {\n",
       "        text-align: right;\n",
       "    }\n",
       "\n",
       "    .dataframe thead th {\n",
       "        text-align: left;\n",
       "    }\n",
       "\n",
       "    .dataframe tbody tr th {\n",
       "        vertical-align: top;\n",
       "    }\n",
       "</style>\n",
       "<table border=\"1\" class=\"dataframe\">\n",
       "  <thead>\n",
       "    <tr style=\"text-align: right;\">\n",
       "      <th></th>\n",
       "      <th>Word</th>\n",
       "      <th>Count</th>\n",
       "    </tr>\n",
       "  </thead>\n",
       "  <tbody>\n",
       "    <tr>\n",
       "      <th>0</th>\n",
       "      <td>election</td>\n",
       "      <td>15532</td>\n",
       "    </tr>\n",
       "    <tr>\n",
       "      <th>1</th>\n",
       "      <td>australia</td>\n",
       "      <td>15305</td>\n",
       "    </tr>\n",
       "    <tr>\n",
       "      <th>2</th>\n",
       "      <td>vote</td>\n",
       "      <td>11083</td>\n",
       "    </tr>\n",
       "    <tr>\n",
       "      <th>3</th>\n",
       "      <td>party</td>\n",
       "      <td>8710</td>\n",
       "    </tr>\n",
       "    <tr>\n",
       "      <th>4</th>\n",
       "      <td>labor</td>\n",
       "      <td>8068</td>\n",
       "    </tr>\n",
       "    <tr>\n",
       "      <th>5</th>\n",
       "      <td>amp</td>\n",
       "      <td>7331</td>\n",
       "    </tr>\n",
       "    <tr>\n",
       "      <th>6</th>\n",
       "      <td>win</td>\n",
       "      <td>6854</td>\n",
       "    </tr>\n",
       "    <tr>\n",
       "      <th>7</th>\n",
       "      <td>like</td>\n",
       "      <td>6513</td>\n",
       "    </tr>\n",
       "    <tr>\n",
       "      <th>8</th>\n",
       "      <td>good</td>\n",
       "      <td>5235</td>\n",
       "    </tr>\n",
       "    <tr>\n",
       "      <th>9</th>\n",
       "      <td>people</td>\n",
       "      <td>5068</td>\n",
       "    </tr>\n",
       "  </tbody>\n",
       "</table>\n",
       "</div>"
      ],
      "text/plain": [
       "        Word  Count\n",
       "0   election  15532\n",
       "1  australia  15305\n",
       "2       vote  11083\n",
       "3      party   8710\n",
       "4      labor   8068\n",
       "5        amp   7331\n",
       "6        win   6854\n",
       "7       like   6513\n",
       "8       good   5235\n",
       "9     people   5068"
      ]
     },
     "execution_count": 195,
     "metadata": {},
     "output_type": "execute_result"
    }
   ],
   "source": [
    "pos_tweets = sa_score[sa_score.label == 1].tweet\n",
    "pos_words = tidy_tweet(pos_tweets)\n",
    "\n",
    "# high frequency words\n",
    "c = Counter()\n",
    "for i in pos_words:\n",
    "    c.update(i)\n",
    "    \n",
    "posi_words = pd.DataFrame(c.most_common(), columns = [\"Word\", \"Count\"])\n",
    "posi_words.head(10)"
   ]
  },
  {
   "cell_type": "code",
   "execution_count": 196,
   "metadata": {},
   "outputs": [
    {
     "data": {
      "text/html": [
       "<div>\n",
       "<style>\n",
       "    .dataframe thead tr:only-child th {\n",
       "        text-align: right;\n",
       "    }\n",
       "\n",
       "    .dataframe thead th {\n",
       "        text-align: left;\n",
       "    }\n",
       "\n",
       "    .dataframe tbody tr th {\n",
       "        vertical-align: top;\n",
       "    }\n",
       "</style>\n",
       "<table border=\"1\" class=\"dataframe\">\n",
       "  <thead>\n",
       "    <tr style=\"text-align: right;\">\n",
       "      <th></th>\n",
       "      <th>Word</th>\n",
       "      <th>Count</th>\n",
       "    </tr>\n",
       "  </thead>\n",
       "  <tbody>\n",
       "    <tr>\n",
       "      <th>0</th>\n",
       "      <td>australia</td>\n",
       "      <td>8644</td>\n",
       "    </tr>\n",
       "    <tr>\n",
       "      <th>1</th>\n",
       "      <td>election</td>\n",
       "      <td>8302</td>\n",
       "    </tr>\n",
       "    <tr>\n",
       "      <th>2</th>\n",
       "      <td>labor</td>\n",
       "      <td>5682</td>\n",
       "    </tr>\n",
       "    <tr>\n",
       "      <th>3</th>\n",
       "      <td>amp</td>\n",
       "      <td>5642</td>\n",
       "    </tr>\n",
       "    <tr>\n",
       "      <th>4</th>\n",
       "      <td>vote</td>\n",
       "      <td>5622</td>\n",
       "    </tr>\n",
       "    <tr>\n",
       "      <th>5</th>\n",
       "      <td>people</td>\n",
       "      <td>4165</td>\n",
       "    </tr>\n",
       "    <tr>\n",
       "      <th>6</th>\n",
       "      <td>australian</td>\n",
       "      <td>2976</td>\n",
       "    </tr>\n",
       "    <tr>\n",
       "      <th>7</th>\n",
       "      <td>get</td>\n",
       "      <td>2847</td>\n",
       "    </tr>\n",
       "    <tr>\n",
       "      <th>8</th>\n",
       "      <td>climate</td>\n",
       "      <td>2689</td>\n",
       "    </tr>\n",
       "    <tr>\n",
       "      <th>9</th>\n",
       "      <td>one</td>\n",
       "      <td>2579</td>\n",
       "    </tr>\n",
       "  </tbody>\n",
       "</table>\n",
       "</div>"
      ],
      "text/plain": [
       "         Word  Count\n",
       "0   australia   8644\n",
       "1    election   8302\n",
       "2       labor   5682\n",
       "3         amp   5642\n",
       "4        vote   5622\n",
       "5      people   4165\n",
       "6  australian   2976\n",
       "7         get   2847\n",
       "8     climate   2689\n",
       "9         one   2579"
      ]
     },
     "execution_count": 196,
     "metadata": {},
     "output_type": "execute_result"
    }
   ],
   "source": [
    "neg_tweets = sa_score[sa_score.label == -1].tweet\n",
    "neg_words = tidy_tweet(neg_tweets)\n",
    "\n",
    "# high frequency words\n",
    "c = Counter()\n",
    "for i in neg_words:\n",
    "    c.update(i)\n",
    "    \n",
    "negi_words = pd.DataFrame(c.most_common(), columns = [\"Word\", \"Count\"])\n",
    "negi_words.head(10)"
   ]
  },
  {
   "cell_type": "code",
   "execution_count": 197,
   "metadata": {},
   "outputs": [
    {
     "data": {
      "text/html": [
       "<div>\n",
       "<style>\n",
       "    .dataframe thead tr:only-child th {\n",
       "        text-align: right;\n",
       "    }\n",
       "\n",
       "    .dataframe thead th {\n",
       "        text-align: left;\n",
       "    }\n",
       "\n",
       "    .dataframe tbody tr th {\n",
       "        vertical-align: top;\n",
       "    }\n",
       "</style>\n",
       "<table border=\"1\" class=\"dataframe\">\n",
       "  <thead>\n",
       "    <tr style=\"text-align: right;\">\n",
       "      <th></th>\n",
       "      <th>Word</th>\n",
       "      <th>Count</th>\n",
       "    </tr>\n",
       "  </thead>\n",
       "  <tbody>\n",
       "    <tr>\n",
       "      <th>355</th>\n",
       "      <td>seizes</td>\n",
       "      <td>454</td>\n",
       "    </tr>\n",
       "    <tr>\n",
       "      <th>493</th>\n",
       "      <td>celebrates</td>\n",
       "      <td>317</td>\n",
       "    </tr>\n",
       "    <tr>\n",
       "      <th>775</th>\n",
       "      <td>damien</td>\n",
       "      <td>202</td>\n",
       "    </tr>\n",
       "    <tr>\n",
       "      <th>1618</th>\n",
       "      <td>poised</td>\n",
       "      <td>83</td>\n",
       "    </tr>\n",
       "    <tr>\n",
       "      <th>2678</th>\n",
       "      <td>npr</td>\n",
       "      <td>44</td>\n",
       "    </tr>\n",
       "    <tr>\n",
       "      <th>2843</th>\n",
       "      <td>delighted</td>\n",
       "      <td>40</td>\n",
       "    </tr>\n",
       "    <tr>\n",
       "      <th>2958</th>\n",
       "      <td>wilt</td>\n",
       "      <td>38</td>\n",
       "    </tr>\n",
       "    <tr>\n",
       "      <th>3704</th>\n",
       "      <td>appreciated</td>\n",
       "      <td>26</td>\n",
       "    </tr>\n",
       "    <tr>\n",
       "      <th>3756</th>\n",
       "      <td>inspirational</td>\n",
       "      <td>26</td>\n",
       "    </tr>\n",
       "    <tr>\n",
       "      <th>3812</th>\n",
       "      <td>azerbaijan</td>\n",
       "      <td>25</td>\n",
       "    </tr>\n",
       "  </tbody>\n",
       "</table>\n",
       "</div>"
      ],
      "text/plain": [
       "               Word  Count\n",
       "355          seizes    454\n",
       "493      celebrates    317\n",
       "775          damien    202\n",
       "1618         poised     83\n",
       "2678            npr     44\n",
       "2843      delighted     40\n",
       "2958           wilt     38\n",
       "3704    appreciated     26\n",
       "3756  inspirational     26\n",
       "3812     azerbaijan     25"
      ]
     },
     "execution_count": 197,
     "metadata": {},
     "output_type": "execute_result"
    }
   ],
   "source": [
    "posi_words[np.logical_not(posi_words.Word.isin(negi_words.Word))].head(10)"
   ]
  },
  {
   "cell_type": "code",
   "execution_count": 198,
   "metadata": {
    "scrolled": true
   },
   "outputs": [
    {
     "data": {
      "text/html": [
       "<div>\n",
       "<style>\n",
       "    .dataframe thead tr:only-child th {\n",
       "        text-align: right;\n",
       "    }\n",
       "\n",
       "    .dataframe thead th {\n",
       "        text-align: left;\n",
       "    }\n",
       "\n",
       "    .dataframe tbody tr th {\n",
       "        vertical-align: top;\n",
       "    }\n",
       "</style>\n",
       "<table border=\"1\" class=\"dataframe\">\n",
       "  <thead>\n",
       "    <tr style=\"text-align: right;\">\n",
       "      <th></th>\n",
       "      <th>Word</th>\n",
       "      <th>Count</th>\n",
       "    </tr>\n",
       "  </thead>\n",
       "  <tbody>\n",
       "    <tr>\n",
       "      <th>2976</th>\n",
       "      <td>thinkprogress</td>\n",
       "      <td>28</td>\n",
       "    </tr>\n",
       "    <tr>\n",
       "      <th>3199</th>\n",
       "      <td>nonexistent</td>\n",
       "      <td>26</td>\n",
       "    </tr>\n",
       "    <tr>\n",
       "      <th>3428</th>\n",
       "      <td>jailed</td>\n",
       "      <td>23</td>\n",
       "    </tr>\n",
       "    <tr>\n",
       "      <th>3482</th>\n",
       "      <td>gloom</td>\n",
       "      <td>22</td>\n",
       "    </tr>\n",
       "    <tr>\n",
       "      <th>3652</th>\n",
       "      <td>laborout</td>\n",
       "      <td>21</td>\n",
       "    </tr>\n",
       "    <tr>\n",
       "      <th>3699</th>\n",
       "      <td>forecaster</td>\n",
       "      <td>20</td>\n",
       "    </tr>\n",
       "    <tr>\n",
       "      <th>3886</th>\n",
       "      <td>evades</td>\n",
       "      <td>19</td>\n",
       "    </tr>\n",
       "    <tr>\n",
       "      <th>4001</th>\n",
       "      <td>harassing</td>\n",
       "      <td>18</td>\n",
       "    </tr>\n",
       "    <tr>\n",
       "      <th>4017</th>\n",
       "      <td>uproar</td>\n",
       "      <td>18</td>\n",
       "    </tr>\n",
       "    <tr>\n",
       "      <th>4113</th>\n",
       "      <td>reek</td>\n",
       "      <td>17</td>\n",
       "    </tr>\n",
       "  </tbody>\n",
       "</table>\n",
       "</div>"
      ],
      "text/plain": [
       "               Word  Count\n",
       "2976  thinkprogress     28\n",
       "3199    nonexistent     26\n",
       "3428         jailed     23\n",
       "3482          gloom     22\n",
       "3652       laborout     21\n",
       "3699     forecaster     20\n",
       "3886         evades     19\n",
       "4001      harassing     18\n",
       "4017         uproar     18\n",
       "4113           reek     17"
      ]
     },
     "execution_count": 198,
     "metadata": {},
     "output_type": "execute_result"
    }
   ],
   "source": [
    "negi_words[np.logical_not(negi_words.Word.isin(posi_words.Word))].head(10)"
   ]
  },
  {
   "cell_type": "markdown",
   "metadata": {},
   "source": [
    "### Network Analysis"
   ]
  },
  {
   "cell_type": "code",
   "execution_count": 274,
   "metadata": {},
   "outputs": [],
   "source": [
    "full_tweet = pd.concat([dt, sa_score[[\"tweet\", \"label\"]]], axis = 1)"
   ]
  },
  {
   "cell_type": "code",
   "execution_count": 275,
   "metadata": {},
   "outputs": [
    {
     "data": {
      "text/html": [
       "<div>\n",
       "<style>\n",
       "    .dataframe thead tr:only-child th {\n",
       "        text-align: right;\n",
       "    }\n",
       "\n",
       "    .dataframe thead th {\n",
       "        text-align: left;\n",
       "    }\n",
       "\n",
       "    .dataframe tbody tr th {\n",
       "        vertical-align: top;\n",
       "    }\n",
       "</style>\n",
       "<table border=\"1\" class=\"dataframe\">\n",
       "  <thead>\n",
       "    <tr style=\"text-align: right;\">\n",
       "      <th></th>\n",
       "      <th>user_id</th>\n",
       "      <th>user_name</th>\n",
       "      <th>full_text</th>\n",
       "      <th>id</th>\n",
       "      <th>retweet_count</th>\n",
       "      <th>favorite_count</th>\n",
       "      <th>tweet</th>\n",
       "      <th>label</th>\n",
       "    </tr>\n",
       "  </thead>\n",
       "  <tbody>\n",
       "    <tr>\n",
       "      <th>0</th>\n",
       "      <td>92484856</td>\n",
       "      <td>PIPELINEPETE</td>\n",
       "      <td>After the climate election: shellshocked green...</td>\n",
       "      <td>1130401208756187136</td>\n",
       "      <td>0.0</td>\n",
       "      <td>0.0</td>\n",
       "      <td>climate election shellshocked green group rema...</td>\n",
       "      <td>1.0</td>\n",
       "    </tr>\n",
       "    <tr>\n",
       "      <th>1</th>\n",
       "      <td>775647396</td>\n",
       "      <td>Narinder Parmar</td>\n",
       "      <td>@narendramodi @smritiirani Coverage of indian ...</td>\n",
       "      <td>1130401205367140357</td>\n",
       "      <td>0.0</td>\n",
       "      <td>0.0</td>\n",
       "      <td>coverage indian election sb tv channel austral...</td>\n",
       "      <td>0.0</td>\n",
       "    </tr>\n",
       "    <tr>\n",
       "      <th>2</th>\n",
       "      <td>56873</td>\n",
       "      <td>Peter Wells</td>\n",
       "      <td>@workmanalice Do you know if Facebook is relea...</td>\n",
       "      <td>1130401162782371841</td>\n",
       "      <td>0.0</td>\n",
       "      <td>0.0</td>\n",
       "      <td>know facebook releasing election post mortem a...</td>\n",
       "      <td>0.0</td>\n",
       "    </tr>\n",
       "    <tr>\n",
       "      <th>3</th>\n",
       "      <td>908166034045026304</td>\n",
       "      <td>The Realist</td>\n",
       "      <td>@vanbadham We all understand we have a compuls...</td>\n",
       "      <td>1130401143551434753</td>\n",
       "      <td>0.0</td>\n",
       "      <td>0.0</td>\n",
       "      <td>understand compulsory preference system vote g...</td>\n",
       "      <td>-1.0</td>\n",
       "    </tr>\n",
       "    <tr>\n",
       "      <th>4</th>\n",
       "      <td>526007385</td>\n",
       "      <td>Inquirer Business</td>\n",
       "      <td>Shares were mixed in Asia, with India and Aust...</td>\n",
       "      <td>1130401118666809345</td>\n",
       "      <td>0.0</td>\n",
       "      <td>0.0</td>\n",
       "      <td>share mixed asia india australia leading gain ...</td>\n",
       "      <td>1.0</td>\n",
       "    </tr>\n",
       "  </tbody>\n",
       "</table>\n",
       "</div>"
      ],
      "text/plain": [
       "              user_id          user_name  \\\n",
       "0            92484856       PIPELINEPETE   \n",
       "1           775647396    Narinder Parmar   \n",
       "2               56873        Peter Wells   \n",
       "3  908166034045026304        The Realist   \n",
       "4           526007385  Inquirer Business   \n",
       "\n",
       "                                           full_text                   id  \\\n",
       "0  After the climate election: shellshocked green...  1130401208756187136   \n",
       "1  @narendramodi @smritiirani Coverage of indian ...  1130401205367140357   \n",
       "2  @workmanalice Do you know if Facebook is relea...  1130401162782371841   \n",
       "3  @vanbadham We all understand we have a compuls...  1130401143551434753   \n",
       "4  Shares were mixed in Asia, with India and Aust...  1130401118666809345   \n",
       "\n",
       "   retweet_count  favorite_count  \\\n",
       "0            0.0             0.0   \n",
       "1            0.0             0.0   \n",
       "2            0.0             0.0   \n",
       "3            0.0             0.0   \n",
       "4            0.0             0.0   \n",
       "\n",
       "                                               tweet  label  \n",
       "0  climate election shellshocked green group rema...    1.0  \n",
       "1  coverage indian election sb tv channel austral...    0.0  \n",
       "2  know facebook releasing election post mortem a...    0.0  \n",
       "3  understand compulsory preference system vote g...   -1.0  \n",
       "4  share mixed asia india australia leading gain ...    1.0  "
      ]
     },
     "execution_count": 275,
     "metadata": {},
     "output_type": "execute_result"
    }
   ],
   "source": [
    "#full_tweet['user_id'] = full_tweet['user_id'].apply(np.int64)\n",
    "full_tweet = full_tweet.dropna()\n",
    "full_tweet['user_id'] = full_tweet['user_id'].apply(np.int64)\n",
    "full_tweet.head()"
   ]
  },
  {
   "cell_type": "code",
   "execution_count": 276,
   "metadata": {},
   "outputs": [],
   "source": [
    "postive_tweets = full_tweet.loc[full_tweet[\"label\"] == 1]"
   ]
  },
  {
   "cell_type": "code",
   "execution_count": 277,
   "metadata": {},
   "outputs": [],
   "source": [
    "negative_tweets = full_tweet.loc[full_tweet[\"label\"] == -1]"
   ]
  },
  {
   "cell_type": "code",
   "execution_count": 278,
   "metadata": {},
   "outputs": [
    {
     "data": {
      "text/html": [
       "<div>\n",
       "<style>\n",
       "    .dataframe thead tr:only-child th {\n",
       "        text-align: right;\n",
       "    }\n",
       "\n",
       "    .dataframe thead th {\n",
       "        text-align: left;\n",
       "    }\n",
       "\n",
       "    .dataframe tbody tr th {\n",
       "        vertical-align: top;\n",
       "    }\n",
       "</style>\n",
       "<table border=\"1\" class=\"dataframe\">\n",
       "  <thead>\n",
       "    <tr style=\"text-align: right;\">\n",
       "      <th></th>\n",
       "      <th>user_id</th>\n",
       "      <th>user_name</th>\n",
       "      <th>full_text</th>\n",
       "      <th>id</th>\n",
       "      <th>retweet_count</th>\n",
       "      <th>favorite_count</th>\n",
       "      <th>tweet</th>\n",
       "      <th>label</th>\n",
       "    </tr>\n",
       "  </thead>\n",
       "  <tbody>\n",
       "    <tr>\n",
       "      <th>0</th>\n",
       "      <td>92484856</td>\n",
       "      <td>PIPELINEPETE</td>\n",
       "      <td>After the climate election: shellshocked green...</td>\n",
       "      <td>1130401208756187136</td>\n",
       "      <td>0.0</td>\n",
       "      <td>0.0</td>\n",
       "      <td>climate election shellshocked green group rema...</td>\n",
       "      <td>1.0</td>\n",
       "    </tr>\n",
       "    <tr>\n",
       "      <th>4</th>\n",
       "      <td>526007385</td>\n",
       "      <td>Inquirer Business</td>\n",
       "      <td>Shares were mixed in Asia, with India and Aust...</td>\n",
       "      <td>1130401118666809345</td>\n",
       "      <td>0.0</td>\n",
       "      <td>0.0</td>\n",
       "      <td>share mixed asia india australia leading gain ...</td>\n",
       "      <td>1.0</td>\n",
       "    </tr>\n",
       "    <tr>\n",
       "      <th>7</th>\n",
       "      <td>2271271897</td>\n",
       "      <td>Jaz Jubilee</td>\n",
       "      <td>@robynesc I feel like this exact thing happens...</td>\n",
       "      <td>1130400889997385728</td>\n",
       "      <td>0.0</td>\n",
       "      <td>0.0</td>\n",
       "      <td>feel like exact thing happens australia people...</td>\n",
       "      <td>1.0</td>\n",
       "    </tr>\n",
       "    <tr>\n",
       "      <th>10</th>\n",
       "      <td>1721130294</td>\n",
       "      <td>Gary Fallon</td>\n",
       "      <td>#auspol Hear, bloody hear. Any party that oppo...</td>\n",
       "      <td>1130400637487702016</td>\n",
       "      <td>1.0</td>\n",
       "      <td>2.0</td>\n",
       "      <td>hear bloody hear party opposes relentlessly gr...</td>\n",
       "      <td>1.0</td>\n",
       "    </tr>\n",
       "    <tr>\n",
       "      <th>11</th>\n",
       "      <td>3045738188</td>\n",
       "      <td>Ice Maiden</td>\n",
       "      <td>Comment: Losing the unlosable election: the af...</td>\n",
       "      <td>1130400598279352320</td>\n",
       "      <td>0.0</td>\n",
       "      <td>0.0</td>\n",
       "      <td>comment losing unlosable election aftermath la...</td>\n",
       "      <td>1.0</td>\n",
       "    </tr>\n",
       "  </tbody>\n",
       "</table>\n",
       "</div>"
      ],
      "text/plain": [
       "       user_id          user_name  \\\n",
       "0     92484856       PIPELINEPETE   \n",
       "4    526007385  Inquirer Business   \n",
       "7   2271271897        Jaz Jubilee   \n",
       "10  1721130294        Gary Fallon   \n",
       "11  3045738188         Ice Maiden   \n",
       "\n",
       "                                            full_text                   id  \\\n",
       "0   After the climate election: shellshocked green...  1130401208756187136   \n",
       "4   Shares were mixed in Asia, with India and Aust...  1130401118666809345   \n",
       "7   @robynesc I feel like this exact thing happens...  1130400889997385728   \n",
       "10  #auspol Hear, bloody hear. Any party that oppo...  1130400637487702016   \n",
       "11  Comment: Losing the unlosable election: the af...  1130400598279352320   \n",
       "\n",
       "    retweet_count  favorite_count  \\\n",
       "0             0.0             0.0   \n",
       "4             0.0             0.0   \n",
       "7             0.0             0.0   \n",
       "10            1.0             2.0   \n",
       "11            0.0             0.0   \n",
       "\n",
       "                                                tweet  label  \n",
       "0   climate election shellshocked green group rema...    1.0  \n",
       "4   share mixed asia india australia leading gain ...    1.0  \n",
       "7   feel like exact thing happens australia people...    1.0  \n",
       "10  hear bloody hear party opposes relentlessly gr...    1.0  \n",
       "11  comment losing unlosable election aftermath la...    1.0  "
      ]
     },
     "execution_count": 278,
     "metadata": {},
     "output_type": "execute_result"
    }
   ],
   "source": [
    "postive_tweets.head()"
   ]
  },
  {
   "cell_type": "code",
   "execution_count": 279,
   "metadata": {},
   "outputs": [
    {
     "data": {
      "text/html": [
       "<div>\n",
       "<style>\n",
       "    .dataframe thead tr:only-child th {\n",
       "        text-align: right;\n",
       "    }\n",
       "\n",
       "    .dataframe thead th {\n",
       "        text-align: left;\n",
       "    }\n",
       "\n",
       "    .dataframe tbody tr th {\n",
       "        vertical-align: top;\n",
       "    }\n",
       "</style>\n",
       "<table border=\"1\" class=\"dataframe\">\n",
       "  <thead>\n",
       "    <tr style=\"text-align: right;\">\n",
       "      <th></th>\n",
       "      <th>user_id</th>\n",
       "      <th>user_name</th>\n",
       "      <th>full_text</th>\n",
       "      <th>id</th>\n",
       "      <th>retweet_count</th>\n",
       "      <th>favorite_count</th>\n",
       "      <th>tweet</th>\n",
       "      <th>label</th>\n",
       "    </tr>\n",
       "  </thead>\n",
       "  <tbody>\n",
       "    <tr>\n",
       "      <th>3</th>\n",
       "      <td>908166034045026304</td>\n",
       "      <td>The Realist</td>\n",
       "      <td>@vanbadham We all understand we have a compuls...</td>\n",
       "      <td>1130401143551434753</td>\n",
       "      <td>0.0</td>\n",
       "      <td>0.0</td>\n",
       "      <td>understand compulsory preference system vote g...</td>\n",
       "      <td>-1.0</td>\n",
       "    </tr>\n",
       "    <tr>\n",
       "      <th>6</th>\n",
       "      <td>51002583</td>\n",
       "      <td>Matthew Rimmer</td>\n",
       "      <td>It is disappointing that @tanya_plibersek has ...</td>\n",
       "      <td>1130401009782673408</td>\n",
       "      <td>0.0</td>\n",
       "      <td>0.0</td>\n",
       "      <td>disappointing plibersek ruled leadership chall...</td>\n",
       "      <td>-1.0</td>\n",
       "    </tr>\n",
       "    <tr>\n",
       "      <th>8</th>\n",
       "      <td>1740060962</td>\n",
       "      <td>Moved</td>\n",
       "      <td>'Quiet Australians' are the latest to upset el...</td>\n",
       "      <td>1130400789694885888</td>\n",
       "      <td>0.0</td>\n",
       "      <td>0.0</td>\n",
       "      <td>quiet australian latest upset election forecas...</td>\n",
       "      <td>-1.0</td>\n",
       "    </tr>\n",
       "    <tr>\n",
       "      <th>17</th>\n",
       "      <td>228310395</td>\n",
       "      <td>EG YIK FAN 吴益帆</td>\n",
       "      <td>#财经视野 #BIZpective\\nAustralia election just ove...</td>\n",
       "      <td>1130399752527306752</td>\n",
       "      <td>0.0</td>\n",
       "      <td>0.0</td>\n",
       "      <td>australia election australian dollar perform h...</td>\n",
       "      <td>-1.0</td>\n",
       "    </tr>\n",
       "    <tr>\n",
       "      <th>18</th>\n",
       "      <td>1118532228886040576</td>\n",
       "      <td>markasher224</td>\n",
       "      <td>BBC News - 2019 Australia election: Morrison's...</td>\n",
       "      <td>1130399591986155522</td>\n",
       "      <td>0.0</td>\n",
       "      <td>0.0</td>\n",
       "      <td>bbc news australia election morrison coalition...</td>\n",
       "      <td>-1.0</td>\n",
       "    </tr>\n",
       "  </tbody>\n",
       "</table>\n",
       "</div>"
      ],
      "text/plain": [
       "                user_id       user_name  \\\n",
       "3    908166034045026304     The Realist   \n",
       "6              51002583  Matthew Rimmer   \n",
       "8            1740060962           Moved   \n",
       "17            228310395  EG YIK FAN 吴益帆   \n",
       "18  1118532228886040576    markasher224   \n",
       "\n",
       "                                            full_text                   id  \\\n",
       "3   @vanbadham We all understand we have a compuls...  1130401143551434753   \n",
       "6   It is disappointing that @tanya_plibersek has ...  1130401009782673408   \n",
       "8   'Quiet Australians' are the latest to upset el...  1130400789694885888   \n",
       "17  #财经视野 #BIZpective\\nAustralia election just ove...  1130399752527306752   \n",
       "18  BBC News - 2019 Australia election: Morrison's...  1130399591986155522   \n",
       "\n",
       "    retweet_count  favorite_count  \\\n",
       "3             0.0             0.0   \n",
       "6             0.0             0.0   \n",
       "8             0.0             0.0   \n",
       "17            0.0             0.0   \n",
       "18            0.0             0.0   \n",
       "\n",
       "                                                tweet  label  \n",
       "3   understand compulsory preference system vote g...   -1.0  \n",
       "6   disappointing plibersek ruled leadership chall...   -1.0  \n",
       "8   quiet australian latest upset election forecas...   -1.0  \n",
       "17  australia election australian dollar perform h...   -1.0  \n",
       "18  bbc news australia election morrison coalition...   -1.0  "
      ]
     },
     "execution_count": 279,
     "metadata": {},
     "output_type": "execute_result"
    }
   ],
   "source": [
    "negative_tweets.head()"
   ]
  },
  {
   "cell_type": "code",
   "execution_count": 280,
   "metadata": {},
   "outputs": [
    {
     "name": "stdout",
     "output_type": "stream",
     "text": [
      "Name: \n",
      "Type: Graph\n",
      "Number of nodes: 97382\n",
      "Number of edges: 71261\n",
      "Average degree:   1.4635\n"
     ]
    }
   ],
   "source": [
    "P = nx.from_pandas_dataframe(postive_tweets , 'user_id', 'id', edge_attr = ['retweet_count', 'favorite_count'], create_using=nx.Graph())\n",
    "print(nx.info(P))"
   ]
  },
  {
   "cell_type": "code",
   "execution_count": 283,
   "metadata": {},
   "outputs": [
    {
     "data": {
      "text/html": [
       "<div>\n",
       "<style>\n",
       "    .dataframe thead tr:only-child th {\n",
       "        text-align: right;\n",
       "    }\n",
       "\n",
       "    .dataframe thead th {\n",
       "        text-align: left;\n",
       "    }\n",
       "\n",
       "    .dataframe tbody tr th {\n",
       "        vertical-align: top;\n",
       "    }\n",
       "</style>\n",
       "<table border=\"1\" class=\"dataframe\">\n",
       "  <thead>\n",
       "    <tr style=\"text-align: right;\">\n",
       "      <th></th>\n",
       "      <th>Nodes</th>\n",
       "      <th>Degree Centrality</th>\n",
       "    </tr>\n",
       "  </thead>\n",
       "  <tbody>\n",
       "    <tr>\n",
       "      <th>44430</th>\n",
       "      <td>373149557</td>\n",
       "      <td>0.003522</td>\n",
       "    </tr>\n",
       "    <tr>\n",
       "      <th>24376</th>\n",
       "      <td>1126229447252647936</td>\n",
       "      <td>0.002044</td>\n",
       "    </tr>\n",
       "    <tr>\n",
       "      <th>783</th>\n",
       "      <td>1706358680</td>\n",
       "      <td>0.001766</td>\n",
       "    </tr>\n",
       "    <tr>\n",
       "      <th>25407</th>\n",
       "      <td>3898426152</td>\n",
       "      <td>0.001674</td>\n",
       "    </tr>\n",
       "    <tr>\n",
       "      <th>16098</th>\n",
       "      <td>485497413</td>\n",
       "      <td>0.001294</td>\n",
       "    </tr>\n",
       "  </tbody>\n",
       "</table>\n",
       "</div>"
      ],
      "text/plain": [
       "                     Nodes  Degree Centrality\n",
       "44430            373149557           0.003522\n",
       "24376  1126229447252647936           0.002044\n",
       "783             1706358680           0.001766\n",
       "25407           3898426152           0.001674\n",
       "16098            485497413           0.001294"
      ]
     },
     "execution_count": 283,
     "metadata": {},
     "output_type": "execute_result"
    }
   ],
   "source": [
    "#degree centrality\n",
    "degree_c = nx.degree_centrality(P)\n",
    "degree_c_df = pd.DataFrame([degree_c.values()], columns=degree_c.keys()).T.reset_index()\n",
    "degree_c_df.rename(columns ={0:'Degree Centrality','index': 'Nodes'}, inplace = True)\n",
    "degree_c_df.sort_values(['Degree Centrality'], ascending=False, inplace = True)\n",
    "degree_c_df.head()"
   ]
  },
  {
   "cell_type": "code",
   "execution_count": 285,
   "metadata": {},
   "outputs": [],
   "source": [
    "influencer = full_tweet.loc[full_tweet[\"user_id\"] == 373149557]"
   ]
  },
  {
   "cell_type": "code",
   "execution_count": 294,
   "metadata": {},
   "outputs": [
    {
     "name": "stdout",
     "output_type": "stream",
     "text": [
      "Name: \n",
      "Type: Graph\n",
      "Number of nodes: 65349\n",
      "Number of edges: 46866\n",
      "Average degree:   1.4343\n"
     ]
    }
   ],
   "source": [
    "N = nx.from_pandas_dataframe(negative_tweets, 'user_id', 'id', edge_attr = ['retweet_count', 'favorite_count'], create_using=nx.Graph())\n",
    "print(nx.info(N))"
   ]
  },
  {
   "cell_type": "code",
   "execution_count": 295,
   "metadata": {},
   "outputs": [
    {
     "data": {
      "text/html": [
       "<div>\n",
       "<style>\n",
       "    .dataframe thead tr:only-child th {\n",
       "        text-align: right;\n",
       "    }\n",
       "\n",
       "    .dataframe thead th {\n",
       "        text-align: left;\n",
       "    }\n",
       "\n",
       "    .dataframe tbody tr th {\n",
       "        vertical-align: top;\n",
       "    }\n",
       "</style>\n",
       "<table border=\"1\" class=\"dataframe\">\n",
       "  <thead>\n",
       "    <tr style=\"text-align: right;\">\n",
       "      <th></th>\n",
       "      <th>Nodes</th>\n",
       "      <th>Degree Centrality</th>\n",
       "    </tr>\n",
       "  </thead>\n",
       "  <tbody>\n",
       "    <tr>\n",
       "      <th>10744</th>\n",
       "      <td>373149557</td>\n",
       "      <td>0.003458</td>\n",
       "    </tr>\n",
       "    <tr>\n",
       "      <th>4526</th>\n",
       "      <td>1559468120</td>\n",
       "      <td>0.002647</td>\n",
       "    </tr>\n",
       "    <tr>\n",
       "      <th>13310</th>\n",
       "      <td>1126229447252647936</td>\n",
       "      <td>0.001959</td>\n",
       "    </tr>\n",
       "    <tr>\n",
       "      <th>12696</th>\n",
       "      <td>3898426152</td>\n",
       "      <td>0.001775</td>\n",
       "    </tr>\n",
       "    <tr>\n",
       "      <th>433</th>\n",
       "      <td>1706358680</td>\n",
       "      <td>0.001637</td>\n",
       "    </tr>\n",
       "  </tbody>\n",
       "</table>\n",
       "</div>"
      ],
      "text/plain": [
       "                     Nodes  Degree Centrality\n",
       "10744            373149557           0.003458\n",
       "4526            1559468120           0.002647\n",
       "13310  1126229447252647936           0.001959\n",
       "12696           3898426152           0.001775\n",
       "433             1706358680           0.001637"
      ]
     },
     "execution_count": 295,
     "metadata": {},
     "output_type": "execute_result"
    }
   ],
   "source": [
    "#degree centrality\n",
    "degree_c = nx.degree_centrality(N)\n",
    "degree_c_df = pd.DataFrame([degree_c.values()], columns=degree_c.keys()).T.reset_index()\n",
    "degree_c_df.rename(columns ={0:'Degree Centrality','index': 'Nodes'}, inplace = True)\n",
    "degree_c_df.sort_values(['Degree Centrality'], ascending=False, inplace = True)\n",
    "degree_c_df.head()"
   ]
  }
 ],
 "metadata": {
  "kernelspec": {
   "display_name": "Python 3",
   "language": "python",
   "name": "python3"
  },
  "language_info": {
   "codemirror_mode": {
    "name": "ipython",
    "version": 3
   },
   "file_extension": ".py",
   "mimetype": "text/x-python",
   "name": "python",
   "nbconvert_exporter": "python",
   "pygments_lexer": "ipython3",
   "version": "3.6.3"
  }
 },
 "nbformat": 4,
 "nbformat_minor": 2
}
