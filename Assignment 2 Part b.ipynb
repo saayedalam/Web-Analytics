{
 "cells": [
  {
   "cell_type": "markdown",
   "metadata": {},
   "source": [
    "### DATA 620\n",
    "#### Week 2 Part 2 Assignment: Assignment Centrality Measures \n",
    "##### Group Four\n",
    "- Santosh Cheruku\n",
    "- Vinicio Haro\n",
    "- Javern Wilson\n",
    "- Saayed Alam  "
   ]
  },
  {
   "cell_type": "markdown",
   "metadata": {},
   "source": [
    "The dataset group 4 has selected to use is the highly popular flights database. The origin of this data can be found [here](https://openflights.org/data.html). Centrality measures can be used to predict (positive or negative) outcomes for a node. In our dataset we will predict **flight delays** (positive) or **no delays** (negative) outcomes for a paritcular **flight destination** (node). \n",
    "\n",
    "###### Data preparation:  \n",
    "In order to prepare the data for downstream analysis, we need to perform some operations on our data such that the data resembles a structure necessary for turning the data into a graphical network. We envision the nodes as being airport destinations where each node represents flights to a destinations. We derive our own categorical variable from the arrival delay column. Our new classification says that if the value is 1, then the flight was delayed and if the value is 0, the flight arrived on time. The data is prepared with a simple r script that will be included in the project. We then export the data into a csv and upload to a GitHub location. \n",
    "\n",
    "##### Data Loading:  \n",
    "The data will be read into the Jupyter notebook environment directly from the GitHub url where the data is being kept. This is mainly to foster an environment where our work can be reproducible. \n",
    "\n",
    "##### Hypothetical Outcome: \n",
    "By definition, degree centrality is a measure of the number of neighbors a node has. This measure is a good indicator if a node is important or not. In our case, if a particular airport is a central hub that has flights coming from more destinations than other smaller airports. We expect airports such as LAX to have a high number of neighbors but we also expect such a big airport to have the most delays as shown with our derived categorical value. "
   ]
  },
  {
   "cell_type": "code",
   "execution_count": 34,
   "metadata": {},
   "outputs": [],
   "source": [
    "# load libraries\n",
    "import pandas as pd\n",
    "import networkx as nx\n",
    "\n",
    "# load dataset\n",
    "data = pd.read_csv(\"https://raw.githubusercontent.com/saayedalam/Data/master/Project1_data.csv\").reset_index(drop = True)\n",
    "\n",
    "# change variable data type\n",
    "data[\"Delays\"] = data[\"Delays\"].astype(\"category\")"
   ]
  },
  {
   "cell_type": "code",
   "execution_count": 35,
   "metadata": {},
   "outputs": [
    {
     "name": "stdout",
     "output_type": "stream",
     "text": [
      "<class 'pandas.core.frame.DataFrame'>\n",
      "RangeIndex: 327346 entries, 0 to 327345\n",
      "Data columns (total 2 columns):\n",
      "Nodes     327346 non-null object\n",
      "Delays    327346 non-null category\n",
      "dtypes: category(1), object(1)\n",
      "memory usage: 2.8+ MB\n"
     ]
    }
   ],
   "source": [
    "# basic info on dataset\n",
    "data.info()"
   ]
  },
  {
   "cell_type": "code",
   "execution_count": 36,
   "metadata": {},
   "outputs": [
    {
     "data": {
      "text/html": [
       "<div>\n",
       "<style>\n",
       "    .dataframe thead tr:only-child th {\n",
       "        text-align: right;\n",
       "    }\n",
       "\n",
       "    .dataframe thead th {\n",
       "        text-align: left;\n",
       "    }\n",
       "\n",
       "    .dataframe tbody tr th {\n",
       "        vertical-align: top;\n",
       "    }\n",
       "</style>\n",
       "<table border=\"1\" class=\"dataframe\">\n",
       "  <thead>\n",
       "    <tr style=\"text-align: right;\">\n",
       "      <th>Delays</th>\n",
       "      <th>0</th>\n",
       "      <th>1</th>\n",
       "    </tr>\n",
       "    <tr>\n",
       "      <th>Nodes</th>\n",
       "      <th></th>\n",
       "      <th></th>\n",
       "    </tr>\n",
       "  </thead>\n",
       "  <tbody>\n",
       "    <tr>\n",
       "      <th>ABQ</th>\n",
       "      <td>147</td>\n",
       "      <td>107</td>\n",
       "    </tr>\n",
       "    <tr>\n",
       "      <th>ACK</th>\n",
       "      <td>160</td>\n",
       "      <td>104</td>\n",
       "    </tr>\n",
       "    <tr>\n",
       "      <th>ALB</th>\n",
       "      <td>234</td>\n",
       "      <td>184</td>\n",
       "    </tr>\n",
       "    <tr>\n",
       "      <th>ANC</th>\n",
       "      <td>3</td>\n",
       "      <td>5</td>\n",
       "    </tr>\n",
       "    <tr>\n",
       "      <th>ATL</th>\n",
       "      <td>8891</td>\n",
       "      <td>7946</td>\n",
       "    </tr>\n",
       "    <tr>\n",
       "      <th>AUS</th>\n",
       "      <td>1428</td>\n",
       "      <td>983</td>\n",
       "    </tr>\n",
       "    <tr>\n",
       "      <th>AVL</th>\n",
       "      <td>142</td>\n",
       "      <td>119</td>\n",
       "    </tr>\n",
       "    <tr>\n",
       "      <th>BDL</th>\n",
       "      <td>268</td>\n",
       "      <td>144</td>\n",
       "    </tr>\n",
       "    <tr>\n",
       "      <th>BGR</th>\n",
       "      <td>221</td>\n",
       "      <td>137</td>\n",
       "    </tr>\n",
       "    <tr>\n",
       "      <th>BHM</th>\n",
       "      <td>148</td>\n",
       "      <td>121</td>\n",
       "    </tr>\n",
       "  </tbody>\n",
       "</table>\n",
       "</div>"
      ],
      "text/plain": [
       "Delays     0     1\n",
       "Nodes             \n",
       "ABQ      147   107\n",
       "ACK      160   104\n",
       "ALB      234   184\n",
       "ANC        3     5\n",
       "ATL     8891  7946\n",
       "AUS     1428   983\n",
       "AVL      142   119\n",
       "BDL      268   144\n",
       "BGR      221   137\n",
       "BHM      148   121"
      ]
     },
     "execution_count": 36,
     "metadata": {},
     "output_type": "execute_result"
    }
   ],
   "source": [
    "# contingency table on nodes \n",
    "pd.crosstab(data[\"Nodes\"], data[\"Delays\"]).head(10)"
   ]
  }
 ],
 "metadata": {
  "kernelspec": {
   "display_name": "Python 3",
   "language": "python",
   "name": "python3"
  },
  "language_info": {
   "codemirror_mode": {
    "name": "ipython",
    "version": 3
   },
   "file_extension": ".py",
   "mimetype": "text/x-python",
   "name": "python",
   "nbconvert_exporter": "python",
   "pygments_lexer": "ipython3",
   "version": "3.6.3"
  }
 },
 "nbformat": 4,
 "nbformat_minor": 2
}
